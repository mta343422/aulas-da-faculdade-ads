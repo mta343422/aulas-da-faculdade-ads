{
  "nbformat": 4,
  "nbformat_minor": 0,
  "metadata": {
    "colab": {
      "provenance": [],
      "authorship_tag": "ABX9TyPbnc3RG3z7w3/NHvJONwxT",
      "include_colab_link": true
    },
    "kernelspec": {
      "name": "python3",
      "display_name": "Python 3"
    },
    "language_info": {
      "name": "python"
    }
  },
  "cells": [
    {
      "cell_type": "markdown",
      "metadata": {
        "id": "view-in-github",
        "colab_type": "text"
      },
      "source": [
        "<a href=\"https://colab.research.google.com/github/mta343422/teste-3/blob/main/Untitled0.ipynb\" target=\"_parent\"><img src=\"https://colab.research.google.com/assets/colab-badge.svg\" alt=\"Open In Colab\"/></a>"
      ]
    },
    {
      "cell_type": "code",
      "execution_count": 3,
      "metadata": {
        "colab": {
          "base_uri": "https://localhost:8080/"
        },
        "id": "sWu8MmDH1Vft",
        "outputId": "82535f45-784b-4a26-f5fe-63eac8029d79"
      },
      "outputs": [
        {
          "output_type": "stream",
          "name": "stdout",
          "text": [
            "Digite seu peso em (Kg): 116.10\n",
            "Digite sua altura em metros:1.61\n",
            " Seu IMC é  44.79\n",
            "Você está com obesidade grau 3\n"
          ]
        }
      ],
      "source": [
        "# solicita ao usuario as informações para calcular o imc\n",
        "peso = float(input(\"Digite seu peso em (Kg): \"))\n",
        "altura = float(input(\"Digite sua altura em metros:\"))\n",
        "# Calculodo IMC90\n",
        "imc = peso / (altura ** 2)\n",
        "# Resultado do imc\n",
        "print(f\" Seu IMC é {imc: .2f}\")\n",
        "# Classificação do IMC\n",
        "if imc < 18.5:\n",
        "  print(\"Você está abaixo do peso ideal\")\n",
        "elif imc >= 18.5 and imc <= 29.9:\n",
        "  print(\"Você está no peso ideal\")\n",
        "elif imc >= 30 and imc <= 34.9:\n",
        "  print(\"Você está com obesidade grau 1\")\n",
        "elif imc >= 35 and imc <= 39.9:\n",
        "  print(\"Você está com obesidade grau 2\")\n",
        "else:\n",
        "  print(\"Você está com obesidade grau 3\")"
      ]
    }
  ]
}